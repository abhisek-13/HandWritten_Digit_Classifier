{
  "nbformat": 4,
  "nbformat_minor": 0,
  "metadata": {
    "colab": {
      "provenance": []
    },
    "kernelspec": {
      "name": "python3",
      "display_name": "Python 3"
    },
    "language_info": {
      "name": "python"
    }
  },
  "cells": [
    {
      "cell_type": "code",
      "execution_count": 17,
      "metadata": {
        "id": "gOuOR5o_3nep"
      },
      "outputs": [],
      "source": [
        "# importing the dependencies\n",
        "import tensorflow\n",
        "from tensorflow import keras\n",
        "from tensorflow.keras import Sequential\n",
        "from tensorflow.keras.layers import Dense,Flatten"
      ]
    },
    {
      "cell_type": "code",
      "source": [
        "# splitting the dataset into train and test data\n",
        "(x_train,y_train),(x_test,y_test) = keras.datasets.mnist.load_data()"
      ],
      "metadata": {
        "id": "OkMKEugW5GyW"
      },
      "execution_count": 18,
      "outputs": []
    },
    {
      "cell_type": "code",
      "source": [
        "import matplotlib.pyplot as plt\n",
        "plt.imshow(x_test[5])"
      ],
      "metadata": {
        "colab": {
          "base_uri": "https://localhost:8080/",
          "height": 447
        },
        "id": "Wn15eRiM5q51",
        "outputId": "071e06e8-e40c-4672-b474-3e7316f4f049"
      },
      "execution_count": 19,
      "outputs": [
        {
          "output_type": "execute_result",
          "data": {
            "text/plain": [
              "<matplotlib.image.AxesImage at 0x7c5a33649c00>"
            ]
          },
          "metadata": {},
          "execution_count": 19
        },
        {
          "output_type": "display_data",
          "data": {
            "text/plain": [
              "<Figure size 640x480 with 1 Axes>"
            ],
            "image/png": "[encoded data removed]"
          },
          "metadata": {}
        }
      ]
    },
    {
      "cell_type": "code",
      "source": [
        "x_train = x_train/255    # converting each images into single pixel\n",
        "x_test = x_test/255"
      ],
      "metadata": {
        "id": "8vuz024C-CIT"
      },
      "execution_count": 20,
      "outputs": []
    },
    {
      "cell_type": "code",
      "source": [
        "model = Sequential()      # Model building\n",
        "\n",
        "model.add(Flatten(input_shape = (28,28)))\n",
        "model.add(Dense(128,activation = 'relu'))\n",
        "model.add(Dense(32,activation = 'relu'))\n",
        "model.add(Dense(10,activation = 'softmax'))"
      ],
      "metadata": {
        "id": "VbsNdGn8-m7h"
      },
      "execution_count": 21,
      "outputs": []
    },
    {
      "cell_type": "code",
      "source": [
        "model.summary()"
      ],
      "metadata": {
        "colab": {
          "base_uri": "https://localhost:8080/"
        },
        "id": "RKZQwRth_Jst",
        "outputId": "083ed364-4abb-4b37-805c-800074952471"
      },
      "execution_count": 22,
      "outputs": [
        {
          "output_type": "stream",
          "name": "stdout",
          "text": [
            "Model: \"sequential_1\"\n",
            "_________________________________________________________________\n",
            " Layer (type)                Output Shape              Param #   \n",
            "=================================================================\n",
            " flatten_1 (Flatten)         (None, 784)               0         \n",
            "                                                                 \n",
            " dense_3 (Dense)             (None, 128)               100480    \n",
            "                                                                 \n",
            " dense_4 (Dense)             (None, 32)                4128      \n",
            "                                                                 \n",
            " dense_5 (Dense)             (None, 10)                330       \n",
            "                                                                 \n",
            "=================================================================\n",
            "Total params: 104938 (409.91 KB)\n",
            "Trainable params: 104938 (409.91 KB)\n",
            "Non-trainable params: 0 (0.00 Byte)\n",
            "_________________________________________________________________\n"
          ]
        }
      ]
    },
    {
      "cell_type": "code",
      "source": [
        "model.compile(loss = 'sparse_categorical_crossentropy',optimizer = 'Adam')   # compiling the model"
      ],
      "metadata": {
        "id": "kIZad91p_LmU"
      },
      "execution_count": 23,
      "outputs": []
    },
    {
      "cell_type": "code",
      "source": [
        "callback = tensorflow.keras.callbacks.EarlyStopping(monitor='loss', patience=3)\n",
        "model.fit(x_train,y_train,epochs =50,validation_split = 0.2,callbacks = [callback])     # training the model"
      ],
      "metadata": {
        "colab": {
          "base_uri": "https://localhost:8080/"
        },
        "id": "iLOpdIZeAIX0",
        "outputId": "0483da85-5376-4dc7-e32c-747aa893382c"
      },
      "execution_count": 25,
      "outputs": [
        {
          "output_type": "stream",
          "name": "stdout",
          "text": [
            "Epoch 1/50\n",
            "1500/1500 [==============================] - 10s 6ms/step - loss: 0.2783 - val_loss: 0.1360\n",
            "Epoch 2/50\n",
            "1500/1500 [==============================] - 5s 4ms/step - loss: 0.1154 - val_loss: 0.1090\n",
            "Epoch 3/50\n",
            "1500/1500 [==============================] - 7s 4ms/step - loss: 0.0781 - val_loss: 0.0931\n",
            "Epoch 4/50\n",
            "1500/1500 [==============================] - 7s 4ms/step - loss: 0.0610 - val_loss: 0.1014\n",
            "Epoch 5/50\n",
            "1500/1500 [==============================] - 7s 5ms/step - loss: 0.0468 - val_loss: 0.1031\n",
            "Epoch 6/50\n",
            "1500/1500 [==============================] - 5s 3ms/step - loss: 0.0358 - val_loss: 0.0906\n",
            "Epoch 7/50\n",
            "1500/1500 [==============================] - 6s 4ms/step - loss: 0.0302 - val_loss: 0.0947\n",
            "Epoch 8/50\n",
            "1500/1500 [==============================] - 5s 4ms/step - loss: 0.0263 - val_loss: 0.0982\n",
            "Epoch 9/50\n",
            "1500/1500 [==============================] - 7s 4ms/step - loss: 0.0209 - val_loss: 0.1082\n",
            "Epoch 10/50\n",
            "1500/1500 [==============================] - 5s 4ms/step - loss: 0.0196 - val_loss: 0.1021\n",
            "Epoch 11/50\n",
            "1500/1500 [==============================] - 7s 5ms/step - loss: 0.0169 - val_loss: 0.1166\n",
            "Epoch 12/50\n",
            "1500/1500 [==============================] - 5s 3ms/step - loss: 0.0164 - val_loss: 0.1123\n",
            "Epoch 13/50\n",
            "1500/1500 [==============================] - 6s 4ms/step - loss: 0.0127 - val_loss: 0.1332\n",
            "Epoch 14/50\n",
            "1500/1500 [==============================] - 6s 4ms/step - loss: 0.0123 - val_loss: 0.1234\n",
            "Epoch 15/50\n",
            "1500/1500 [==============================] - 6s 4ms/step - loss: 0.0133 - val_loss: 0.1273\n",
            "Epoch 16/50\n",
            "1500/1500 [==============================] - 6s 4ms/step - loss: 0.0122 - val_loss: 0.1255\n",
            "Epoch 17/50\n",
            "1500/1500 [==============================] - 5s 4ms/step - loss: 0.0111 - val_loss: 0.1417\n",
            "Epoch 18/50\n",
            "1500/1500 [==============================] - 7s 5ms/step - loss: 0.0113 - val_loss: 0.1256\n",
            "Epoch 19/50\n",
            "1500/1500 [==============================] - 5s 4ms/step - loss: 0.0085 - val_loss: 0.1545\n",
            "Epoch 20/50\n",
            "1500/1500 [==============================] - 7s 4ms/step - loss: 0.0075 - val_loss: 0.1384\n",
            "Epoch 21/50\n",
            "1500/1500 [==============================] - 5s 4ms/step - loss: 0.0103 - val_loss: 0.1582\n",
            "Epoch 22/50\n",
            "1500/1500 [==============================] - 7s 4ms/step - loss: 0.0087 - val_loss: 0.1497\n",
            "Epoch 23/50\n",
            "1500/1500 [==============================] - 5s 4ms/step - loss: 0.0054 - val_loss: 0.1365\n",
            "Epoch 24/50\n",
            "1500/1500 [==============================] - 7s 4ms/step - loss: 0.0107 - val_loss: 0.1579\n",
            "Epoch 25/50\n",
            "1500/1500 [==============================] - 5s 4ms/step - loss: 0.0069 - val_loss: 0.1691\n",
            "Epoch 26/50\n",
            "1500/1500 [==============================] - 7s 4ms/step - loss: 0.0054 - val_loss: 0.1588\n",
            "Epoch 27/50\n",
            "1500/1500 [==============================] - 5s 3ms/step - loss: 0.0082 - val_loss: 0.1884\n",
            "Epoch 28/50\n",
            "1500/1500 [==============================] - 6s 4ms/step - loss: 0.0085 - val_loss: 0.1603\n",
            "Epoch 29/50\n",
            "1500/1500 [==============================] - 6s 4ms/step - loss: 0.0070 - val_loss: 0.1668\n"
          ]
        },
        {
          "output_type": "execute_result",
          "data": {
            "text/plain": [
              "<keras.src.callbacks.History at 0x7c5a333be230>"
            ]
          },
          "metadata": {},
          "execution_count": 25
        }
      ]
    },
    {
      "cell_type": "code",
      "source": [
        "pred = model.predict(x_test)         # testing the model"
      ],
      "metadata": {
        "colab": {
          "base_uri": "https://localhost:8080/"
        },
        "id": "d_6l0CT5Aaql",
        "outputId": "020c9a36-ff84-4ee3-a03a-5171dfaa63b1"
      },
      "execution_count": 26,
      "outputs": [
        {
          "output_type": "stream",
          "name": "stdout",
          "text": [
            "313/313 [==============================] - 1s 2ms/step\n"
          ]
        }
      ]
    },
    {
      "cell_type": "code",
      "source": [
        "y_pred = pred.argmax(axis = 1)"
      ],
      "metadata": {
        "id": "buk031N0A5G2"
      },
      "execution_count": 27,
      "outputs": []
    },
    {
      "cell_type": "code",
      "source": [
        "from sklearn.metrics import accuracy_score\n",
        "accuracy_score(y_test,y_pred)           # checking the accuracy score"
      ],
      "metadata": {
        "colab": {
          "base_uri": "https://localhost:8080/"
        },
        "id": "nIjf0maXBAx1",
        "outputId": "4370fc53-c038-42fb-d573-6aaeabda6526"
      },
      "execution_count": 28,
      "outputs": [
        {
          "output_type": "execute_result",
          "data": {
            "text/plain": [
              "0.9777"
            ]
          },
          "metadata": {},
          "execution_count": 28
        }
      ]
    },
    {
      "cell_type": "code",
      "source": [
        "model.predict(x_test[5].reshape(1,28,28)).argmax(axis = 1)"
      ],
      "metadata": {
        "colab": {
          "base_uri": "https://localhost:8080/"
        },
        "id": "quHmESluBPgg",
        "outputId": "ed561ef5-56ea-4bcb-ec4e-9c6c8a6df773"
      },
      "execution_count": 29,
      "outputs": [
        {
          "output_type": "stream",
          "name": "stdout",
          "text": [
            "1/1 [==============================] - 0s 21ms/step\n"
          ]
        },
        {
          "output_type": "execute_result",
          "data": {
            "text/plain": [
              "array([1])"
            ]
          },
          "metadata": {},
          "execution_count": 29
        }
      ]
    }
  ]
}